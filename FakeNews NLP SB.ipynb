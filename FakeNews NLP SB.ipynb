{
 "cells": [
  {
   "cell_type": "code",
   "execution_count": 24,
   "metadata": {},
   "outputs": [],
   "source": [
    "#import pandas & natural language processing library\n",
    "import pandas as pd\n",
    "import nltk"
   ]
  },
  {
   "cell_type": "code",
   "execution_count": 25,
   "metadata": {},
   "outputs": [],
   "source": [
    "#Importing two datasets from ONION news\n",
    "Fnews=pd.read_csv('Fake.csv')\n",
    "Tnews=pd.read_csv('True.csv')"
   ]
  },
  {
   "cell_type": "code",
   "execution_count": 26,
   "metadata": {},
   "outputs": [
    {
     "name": "stdout",
     "output_type": "stream",
     "text": [
      "<class 'pandas.core.frame.DataFrame'>\n",
      "RangeIndex: 23481 entries, 0 to 23480\n",
      "Data columns (total 4 columns):\n",
      " #   Column   Non-Null Count  Dtype \n",
      "---  ------   --------------  ----- \n",
      " 0   title    23481 non-null  object\n",
      " 1   text     23481 non-null  object\n",
      " 2   subject  23481 non-null  object\n",
      " 3   date     23481 non-null  object\n",
      "dtypes: object(4)\n",
      "memory usage: 733.9+ KB\n",
      "<class 'pandas.core.frame.DataFrame'>\n",
      "RangeIndex: 21417 entries, 0 to 21416\n",
      "Data columns (total 4 columns):\n",
      " #   Column   Non-Null Count  Dtype \n",
      "---  ------   --------------  ----- \n",
      " 0   title    21417 non-null  object\n",
      " 1   text     21417 non-null  object\n",
      " 2   subject  21417 non-null  object\n",
      " 3   date     21417 non-null  object\n",
      "dtypes: object(4)\n",
      "memory usage: 669.4+ KB\n"
     ]
    },
    {
     "data": {
      "text/html": [
       "<div>\n",
       "<style scoped>\n",
       "    .dataframe tbody tr th:only-of-type {\n",
       "        vertical-align: middle;\n",
       "    }\n",
       "\n",
       "    .dataframe tbody tr th {\n",
       "        vertical-align: top;\n",
       "    }\n",
       "\n",
       "    .dataframe thead th {\n",
       "        text-align: right;\n",
       "    }\n",
       "</style>\n",
       "<table border=\"1\" class=\"dataframe\">\n",
       "  <thead>\n",
       "    <tr style=\"text-align: right;\">\n",
       "      <th></th>\n",
       "      <th>title</th>\n",
       "      <th>text</th>\n",
       "      <th>subject</th>\n",
       "      <th>date</th>\n",
       "    </tr>\n",
       "  </thead>\n",
       "  <tbody>\n",
       "    <tr>\n",
       "      <th>count</th>\n",
       "      <td>21417</td>\n",
       "      <td>21417</td>\n",
       "      <td>21417</td>\n",
       "      <td>21417</td>\n",
       "    </tr>\n",
       "    <tr>\n",
       "      <th>unique</th>\n",
       "      <td>20826</td>\n",
       "      <td>21192</td>\n",
       "      <td>2</td>\n",
       "      <td>716</td>\n",
       "    </tr>\n",
       "    <tr>\n",
       "      <th>top</th>\n",
       "      <td>Factbox: Trump fills top jobs for his administ...</td>\n",
       "      <td>(Reuters) - Highlights for U.S. President Dona...</td>\n",
       "      <td>politicsNews</td>\n",
       "      <td>December 20, 2017</td>\n",
       "    </tr>\n",
       "    <tr>\n",
       "      <th>freq</th>\n",
       "      <td>14</td>\n",
       "      <td>8</td>\n",
       "      <td>11272</td>\n",
       "      <td>182</td>\n",
       "    </tr>\n",
       "  </tbody>\n",
       "</table>\n",
       "</div>"
      ],
      "text/plain": [
       "                                                    title  \\\n",
       "count                                               21417   \n",
       "unique                                              20826   \n",
       "top     Factbox: Trump fills top jobs for his administ...   \n",
       "freq                                                   14   \n",
       "\n",
       "                                                     text       subject  \\\n",
       "count                                               21417         21417   \n",
       "unique                                              21192             2   \n",
       "top     (Reuters) - Highlights for U.S. President Dona...  politicsNews   \n",
       "freq                                                    8         11272   \n",
       "\n",
       "                      date  \n",
       "count                21417  \n",
       "unique                 716  \n",
       "top     December 20, 2017   \n",
       "freq                   182  "
      ]
     },
     "execution_count": 26,
     "metadata": {},
     "output_type": "execute_result"
    }
   ],
   "source": [
    "#familiarity with both data sets, skipping feature engineering and pre processing\n",
    "Fnews.head()\n",
    "Tnews.head()\n",
    "Fnews.info()\n",
    "Tnews.info()\n",
    "Fnews.describe()\n",
    "Tnews.describe()"
   ]
  },
  {
   "cell_type": "code",
   "execution_count": 27,
   "metadata": {},
   "outputs": [],
   "source": [
    "#set variablaes for both fake and new\n",
    "Tnews['True/Fake']='True'\n",
    "Fnews['True/Fake']='Fake'"
   ]
  },
  {
   "cell_type": "code",
   "execution_count": 28,
   "metadata": {},
   "outputs": [
    {
     "data": {
      "text/html": [
       "<div>\n",
       "<style scoped>\n",
       "    .dataframe tbody tr th:only-of-type {\n",
       "        vertical-align: middle;\n",
       "    }\n",
       "\n",
       "    .dataframe tbody tr th {\n",
       "        vertical-align: top;\n",
       "    }\n",
       "\n",
       "    .dataframe thead th {\n",
       "        text-align: right;\n",
       "    }\n",
       "</style>\n",
       "<table border=\"1\" class=\"dataframe\">\n",
       "  <thead>\n",
       "    <tr style=\"text-align: right;\">\n",
       "      <th></th>\n",
       "      <th>title</th>\n",
       "      <th>text</th>\n",
       "      <th>subject</th>\n",
       "      <th>date</th>\n",
       "      <th>True/Fake</th>\n",
       "      <th>Article</th>\n",
       "    </tr>\n",
       "  </thead>\n",
       "  <tbody>\n",
       "    <tr>\n",
       "      <th>9721</th>\n",
       "      <td>BRILLIANT! President Trump Offers Congress Har...</td>\n",
       "      <td>AP  President Donald Trump has told congressio...</td>\n",
       "      <td>politics</td>\n",
       "      <td>Oct 9, 2017</td>\n",
       "      <td>Fake</td>\n",
       "      <td>BRILLIANT! President Trump Offers Congress Har...</td>\n",
       "    </tr>\n",
       "    <tr>\n",
       "      <th>14170</th>\n",
       "      <td>Escape from North Korea: video shows defector ...</td>\n",
       "      <td>SEOUL (Reuters) - A North Korean border guard ...</td>\n",
       "      <td>worldnews</td>\n",
       "      <td>November 22, 2017</td>\n",
       "      <td>True</td>\n",
       "      <td>Escape from North Korea: video shows defector ...</td>\n",
       "    </tr>\n",
       "    <tr>\n",
       "      <th>4077</th>\n",
       "      <td>Trump to meet Australian PM, relations straine...</td>\n",
       "      <td>SYDNEY/WASHINGTON (Reuters)) - U.S. President ...</td>\n",
       "      <td>politicsNews</td>\n",
       "      <td>April 25, 2017</td>\n",
       "      <td>True</td>\n",
       "      <td>Trump to meet Australian PM, relations straine...</td>\n",
       "    </tr>\n",
       "    <tr>\n",
       "      <th>4290</th>\n",
       "      <td>FBI got court order to monitor ex-Trump advise...</td>\n",
       "      <td>WASHINGTON (Reuters) - The FBI secured a court...</td>\n",
       "      <td>politicsNews</td>\n",
       "      <td>April 12, 2017</td>\n",
       "      <td>True</td>\n",
       "      <td>FBI got court order to monitor ex-Trump advise...</td>\n",
       "    </tr>\n",
       "    <tr>\n",
       "      <th>11110</th>\n",
       "      <td>U.S. FIGHTER JETS SCRAMBLED: Russian Bombers C...</td>\n",
       "      <td>Show of force The Russian long-range TU-95 Be...</td>\n",
       "      <td>politics</td>\n",
       "      <td>Apr 18, 2017</td>\n",
       "      <td>Fake</td>\n",
       "      <td>U.S. FIGHTER JETS SCRAMBLED: Russian Bombers C...</td>\n",
       "    </tr>\n",
       "    <tr>\n",
       "      <th>...</th>\n",
       "      <td>...</td>\n",
       "      <td>...</td>\n",
       "      <td>...</td>\n",
       "      <td>...</td>\n",
       "      <td>...</td>\n",
       "      <td>...</td>\n",
       "    </tr>\n",
       "    <tr>\n",
       "      <th>5130</th>\n",
       "      <td>Trump Just Got Punked HARD For His Acceptance...</td>\n",
       "      <td>Trump s acceptance of a Purple Heart, and his ...</td>\n",
       "      <td>News</td>\n",
       "      <td>August 8, 2016</td>\n",
       "      <td>Fake</td>\n",
       "      <td>Trump Just Got Punked HARD For His Acceptance...</td>\n",
       "    </tr>\n",
       "    <tr>\n",
       "      <th>21819</th>\n",
       "      <td>UNREAL! FORMER GITMO DETAINEES PROTEST AT U.S....</td>\n",
       "      <td>We should do NOTHING for these terrorists! The...</td>\n",
       "      <td>left-news</td>\n",
       "      <td>Apr 26, 2015</td>\n",
       "      <td>Fake</td>\n",
       "      <td>UNREAL! FORMER GITMO DETAINEES PROTEST AT U.S....</td>\n",
       "    </tr>\n",
       "    <tr>\n",
       "      <th>21070</th>\n",
       "      <td>Syrian army, allies 3 km from Deir al-Zor encl...</td>\n",
       "      <td>BEIRUT (Reuters) - The Syrian army and allied ...</td>\n",
       "      <td>worldnews</td>\n",
       "      <td>September 4, 2017</td>\n",
       "      <td>True</td>\n",
       "      <td>Syrian army, allies 3 km from Deir al-Zor encl...</td>\n",
       "    </tr>\n",
       "    <tr>\n",
       "      <th>15880</th>\n",
       "      <td>POLITICAL HACK RIHANNA SINGS “We are the new A...</td>\n",
       "      <td>Corporate sponsors like Coke should think agai...</td>\n",
       "      <td>politics</td>\n",
       "      <td>Apr 5, 2015</td>\n",
       "      <td>Fake</td>\n",
       "      <td>POLITICAL HACK RIHANNA SINGS “We are the new A...</td>\n",
       "    </tr>\n",
       "    <tr>\n",
       "      <th>24</th>\n",
       "      <td>White House: It Wasn’t Sexist For Trump To Sl...</td>\n",
       "      <td>A backlash ensued after Donald Trump launched ...</td>\n",
       "      <td>News</td>\n",
       "      <td>December 12, 2017</td>\n",
       "      <td>Fake</td>\n",
       "      <td>White House: It Wasn’t Sexist For Trump To Sl...</td>\n",
       "    </tr>\n",
       "  </tbody>\n",
       "</table>\n",
       "<p>44898 rows × 6 columns</p>\n",
       "</div>"
      ],
      "text/plain": [
       "                                                   title  \\\n",
       "9721   BRILLIANT! President Trump Offers Congress Har...   \n",
       "14170  Escape from North Korea: video shows defector ...   \n",
       "4077   Trump to meet Australian PM, relations straine...   \n",
       "4290   FBI got court order to monitor ex-Trump advise...   \n",
       "11110  U.S. FIGHTER JETS SCRAMBLED: Russian Bombers C...   \n",
       "...                                                  ...   \n",
       "5130    Trump Just Got Punked HARD For His Acceptance...   \n",
       "21819  UNREAL! FORMER GITMO DETAINEES PROTEST AT U.S....   \n",
       "21070  Syrian army, allies 3 km from Deir al-Zor encl...   \n",
       "15880  POLITICAL HACK RIHANNA SINGS “We are the new A...   \n",
       "24      White House: It Wasn’t Sexist For Trump To Sl...   \n",
       "\n",
       "                                                    text       subject  \\\n",
       "9721   AP  President Donald Trump has told congressio...      politics   \n",
       "14170  SEOUL (Reuters) - A North Korean border guard ...     worldnews   \n",
       "4077   SYDNEY/WASHINGTON (Reuters)) - U.S. President ...  politicsNews   \n",
       "4290   WASHINGTON (Reuters) - The FBI secured a court...  politicsNews   \n",
       "11110   Show of force The Russian long-range TU-95 Be...      politics   \n",
       "...                                                  ...           ...   \n",
       "5130   Trump s acceptance of a Purple Heart, and his ...          News   \n",
       "21819  We should do NOTHING for these terrorists! The...     left-news   \n",
       "21070  BEIRUT (Reuters) - The Syrian army and allied ...     worldnews   \n",
       "15880  Corporate sponsors like Coke should think agai...      politics   \n",
       "24     A backlash ensued after Donald Trump launched ...          News   \n",
       "\n",
       "                     date True/Fake  \\\n",
       "9721          Oct 9, 2017      Fake   \n",
       "14170  November 22, 2017       True   \n",
       "4077      April 25, 2017       True   \n",
       "4290      April 12, 2017       True   \n",
       "11110        Apr 18, 2017      Fake   \n",
       "...                   ...       ...   \n",
       "5130       August 8, 2016      Fake   \n",
       "21819        Apr 26, 2015      Fake   \n",
       "21070  September 4, 2017       True   \n",
       "15880         Apr 5, 2015      Fake   \n",
       "24      December 12, 2017      Fake   \n",
       "\n",
       "                                                 Article  \n",
       "9721   BRILLIANT! President Trump Offers Congress Har...  \n",
       "14170  Escape from North Korea: video shows defector ...  \n",
       "4077   Trump to meet Australian PM, relations straine...  \n",
       "4290   FBI got court order to monitor ex-Trump advise...  \n",
       "11110  U.S. FIGHTER JETS SCRAMBLED: Russian Bombers C...  \n",
       "...                                                  ...  \n",
       "5130    Trump Just Got Punked HARD For His Acceptance...  \n",
       "21819  UNREAL! FORMER GITMO DETAINEES PROTEST AT U.S....  \n",
       "21070  Syrian army, allies 3 km from Deir al-Zor encl...  \n",
       "15880  POLITICAL HACK RIHANNA SINGS “We are the new A...  \n",
       "24      White House: It Wasn’t Sexist For Trump To Sl...  \n",
       "\n",
       "[44898 rows x 6 columns]"
      ]
     },
     "execution_count": 28,
     "metadata": {},
     "output_type": "execute_result"
    }
   ],
   "source": [
    "#combine those fake/true news and shuffle it\n",
    "news = pd.concat([Tnews, Fnews])\n",
    "news[\"Article\"] = news[\"title\"] + news[\"text\"]\n",
    "news.sample(frac = 1) #Shuffle 100%"
   ]
  },
  {
   "cell_type": "code",
   "execution_count": 29,
   "metadata": {},
   "outputs": [],
   "source": [
    "# import stopwords to get rid of grammar words\n",
    "#keep relevant strings\n",
    "from nltk.corpus import stopwords\n",
    "import string"
   ]
  },
  {
   "cell_type": "code",
   "execution_count": 30,
   "metadata": {},
   "outputs": [],
   "source": [
    "#function to remove puncuation, stop words and return clean strings\n",
    "def text_process(mess):\n",
    "    \"\"\"\n",
    "    1. remove punc\n",
    "    2.remove stop words\n",
    "    3.return list of cleean text words\n",
    "    \"\"\"\n",
    "    nopunc=[char for char in mess if char not in string.punctuation]\n",
    "    nopunc=''.join(nopunc)\n",
    "    return[word for word in nopunc.split() \n",
    "    if word.lower() not in stopwords.words('english')]\n"
   ]
  },
  {
   "cell_type": "code",
   "execution_count": 31,
   "metadata": {},
   "outputs": [
    {
     "name": "stdout",
     "output_type": "stream",
     "text": [
      "<class 'pandas.core.frame.DataFrame'>\n",
      "Int64Index: 44898 entries, 0 to 23480\n",
      "Data columns (total 6 columns):\n",
      " #   Column     Non-Null Count  Dtype \n",
      "---  ------     --------------  ----- \n",
      " 0   title      44898 non-null  object\n",
      " 1   text       44898 non-null  object\n",
      " 2   subject    44898 non-null  object\n",
      " 3   date       44898 non-null  object\n",
      " 4   True/Fake  44898 non-null  object\n",
      " 5   Article    44898 non-null  object\n",
      "dtypes: object(6)\n",
      "memory usage: 2.4+ MB\n"
     ]
    }
   ],
   "source": [
    "# check the new datasets TYPES\n",
    "news.info()"
   ]
  },
  {
   "cell_type": "code",
   "execution_count": 32,
   "metadata": {},
   "outputs": [
    {
     "data": {
      "text/plain": [
       "0    [US, budget, fight, looms, Republicans, flip, ...\n",
       "1    [US, military, accept, transgender, recruits, ...\n",
       "2    [Senior, US, Republican, senator, Let, Mr, Mue...\n",
       "3    [FBI, Russia, probe, helped, Australian, diplo...\n",
       "4    [Trump, wants, Postal, Service, charge, much, ...\n",
       "Name: Article, dtype: object"
      ]
     },
     "execution_count": 32,
     "metadata": {},
     "output_type": "execute_result"
    }
   ],
   "source": [
    "# Now we know article column is where news is and we need tokenise the article so we can NLP\n",
    "# Tokenising takes time as we have 44898 articles\n",
    "news['Article'].head(5).apply(text_process)"
   ]
  },
  {
   "cell_type": "code",
   "execution_count": 33,
   "metadata": {},
   "outputs": [],
   "source": [
    "#fit text_process we created with article tokens\n",
    "from sklearn.feature_extraction.text import CountVectorizer"
   ]
  },
  {
   "cell_type": "code",
   "execution_count": null,
   "metadata": {},
   "outputs": [],
   "source": [
    "# bow means bag of words\n",
    "bow_transformer= CountVectorizer(analyzer=text_process).fit(news['Article'])"
   ]
  },
  {
   "cell_type": "code",
   "execution_count": null,
   "metadata": {},
   "outputs": [],
   "source": [
    "# sci kit transformer to calculate term frequency\n",
    "from sklearn.feature_extraction.text import TfidfTransformer"
   ]
  },
  {
   "cell_type": "code",
   "execution_count": null,
   "metadata": {},
   "outputs": [],
   "source": [
    "#import Naive BAYES FOR NLP\n",
    "from sklearn.naive_bayes import MultinomialNB\n",
    "nb = MultinomialNB()"
   ]
  },
  {
   "cell_type": "code",
   "execution_count": null,
   "metadata": {},
   "outputs": [],
   "source": [
    "# predict off test using data pipeline feature\n",
    "from sklearn.pipeline import Pipeline"
   ]
  },
  {
   "cell_type": "code",
   "execution_count": null,
   "metadata": {},
   "outputs": [],
   "source": [
    "# ([(tuples)])- fixed data\n",
    "#takes in count vectoriser with text process function analyser\n",
    "#text_process= strings that took in integer counts\n",
    "#next, integer counts turnt into weighted values with tfidtransformer\n",
    "#next, train it using Naives Bayes MultiNomial\n",
    "# options you can change classifier like (RandomforestClassifer)\n",
    "pipeline=Pipeline([('bow',CountVectorizer(analyzer=text_process)),\n",
    "                    ('tfidf',TfidfTransformer()),\n",
    "                    ('classifier', MultinomialNB())\n",
    "                   ])"
   ]
  },
  {
   "cell_type": "code",
   "execution_count": null,
   "metadata": {},
   "outputs": [],
   "source": [
    "#train data into train/test split\n",
    "from sklearn.model_selection import train_test_split"
   ]
  },
  {
   "cell_type": "code",
   "execution_count": null,
   "metadata": {},
   "outputs": [],
   "source": [
    "# my train data are tokenised atricles & predictions are wether the article is true or false\n",
    "X = news['Article']\n",
    "y = news['True/Fake']\n",
    "# use 30% of data for testing and 70%  for training\n",
    "X_train, X_test, y_train, y_test = train_test_split(X, y,test_size=0.3,random_state=101)"
   ]
  },
  {
   "cell_type": "code",
   "execution_count": null,
   "metadata": {},
   "outputs": [],
   "source": [
    "# Takes time\n",
    "# fit the news data into article train and true or fake train with pipeline method\n",
    "pipeline.fit(X_train,y_train)"
   ]
  },
  {
   "cell_type": "code",
   "execution_count": null,
   "metadata": {},
   "outputs": [],
   "source": [
    "# lets predict the articles using article test data set\n",
    "predictions = pipeline.predict(X_test) "
   ]
  },
  {
   "cell_type": "code",
   "execution_count": null,
   "metadata": {},
   "outputs": [],
   "source": [
    "# we have 97% accuracy and we misclassified 277/44898 articles\n",
    "from sklearn.metrics import classification_report, confusion_matrix\n",
    "print(confusion_matrix(y_test,predictions))\n",
    "print(classification_report(y_test,predictions))"
   ]
  },
  {
   "cell_type": "code",
   "execution_count": null,
   "metadata": {},
   "outputs": [],
   "source": [
    "# Next, I use Neural Networks for better accuracy. Heavy preprocessing required."
   ]
  }
 ],
 "metadata": {
  "kernelspec": {
   "display_name": "Python 3",
   "language": "python",
   "name": "python3"
  },
  "language_info": {
   "codemirror_mode": {
    "name": "ipython",
    "version": 3
   },
   "file_extension": ".py",
   "mimetype": "text/x-python",
   "name": "python",
   "nbconvert_exporter": "python",
   "pygments_lexer": "ipython3",
   "version": "3.7.6"
  }
 },
 "nbformat": 4,
 "nbformat_minor": 4
}
